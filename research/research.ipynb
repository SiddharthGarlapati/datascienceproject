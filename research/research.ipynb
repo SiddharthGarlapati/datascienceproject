{
 "cells": [
  {
   "cell_type": "code",
   "execution_count": null,
   "metadata": {},
   "outputs": [],
   "source": []
  }
 ],
 "metadata": {
  "kernelspec": {
   "display_name": "Python 3",
   "language": "python",
   "name": "python3"
  },
  "language_info": {
   "name": "python",
   "version": "3.10.0"
  },
  "orig_nbformat": 4,
  "vscode": {
   "interpreter": {
    "hash": "2cfd40d355955ce248545d956263eca752208f18d5c9d50a34371cb423d244b8"
   }
  }
 },
 "nbformat": 4,
 "nbformat_minor": 2
}
